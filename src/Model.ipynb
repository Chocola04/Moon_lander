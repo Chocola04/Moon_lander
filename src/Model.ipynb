{
 "cells": [
  {
   "cell_type": "code",
   "execution_count": 1,
   "metadata": {},
   "outputs": [],
   "source": [
    "import time\n",
    "from collections import deque, namedtuple\n",
    "\n",
    "import gym\n",
    "import numpy as np\n",
    "import PIL.Image\n",
    "import tensorflow as tf\n",
    "import utils\n",
    "\n",
    "import pyvirtualdisplay\n",
    "from tensorflow import keras\n",
    "from keras import Sequential\n",
    "from keras.models import Model\n",
    "from keras.layers import Dense, Input\n",
    "from keras.optimizers import Adam"
   ]
  },
  {
   "cell_type": "code",
   "execution_count": null,
   "metadata": {},
   "outputs": [],
   "source": []
  },
  {
   "cell_type": "code",
   "execution_count": 2,
   "metadata": {},
   "outputs": [],
   "source": [
    "# Set up a virtual display to render the Lunar Lander environment.\n",
    "\n",
    "# Set the random seed for TensorFlow\n",
    "tf.random.set_seed(utils.SEED)"
   ]
  },
  {
   "cell_type": "code",
   "execution_count": 3,
   "metadata": {},
   "outputs": [],
   "source": [
    "MEMORY_SIZE = 100_000     # size of memory buffer\n",
    "GAMMA = 0.995             # discount factor\n",
    "ALPHA = 1e-3              # learning rate  \n",
    "NUM_STEPS_FOR_UPDATE = 4  # perform a learning update every C time steps"
   ]
  },
  {
   "cell_type": "code",
   "execution_count": 4,
   "metadata": {},
   "outputs": [],
   "source": [
    "env = gym.make('LunarLander-v2')"
   ]
  },
  {
   "cell_type": "code",
   "execution_count": 5,
   "metadata": {},
   "outputs": [
    {
     "name": "stderr",
     "output_type": "stream",
     "text": [
      "c:\\Users\\Vamshi\\OneDrive\\VAMSHI\\DS\\Projects\\Moon Lander\\env\\Lib\\site-packages\\pyglet\\image\\codecs\\wic.py:406: UserWarning: [WinError -2147417850] Cannot change thread mode after it is set\n",
      "  warnings.warn(str(err))\n"
     ]
    },
    {
     "data": {
      "image/jpeg": "[encoded data removed]",
      "image/png": "[encoded data removed]",
      "text/plain": [
       "<PIL.Image.Image image mode=RGB size=600x400>"
      ]
     },
     "execution_count": 5,
     "metadata": {},
     "output_type": "execute_result"
    }
   ],
   "source": [
    "env.reset()\n",
    "PIL.Image.fromarray(env.render(mode='rgb_array'))"
   ]
  },
  {
   "cell_type": "code",
   "execution_count": 6,
   "metadata": {},
   "outputs": [
    {
     "name": "stdout",
     "output_type": "stream",
     "text": [
      "State Shape: (8,)\n",
      "Number of actions: 4\n"
     ]
    }
   ],
   "source": [
    "state_size = env.observation_space.shape\n",
    "num_actions = env.action_space.n\n",
    "\n",
    "print('State Shape:', state_size)\n",
    "print('Number of actions:', num_actions)"
   ]
  },
  {
   "cell_type": "code",
   "execution_count": 7,
   "metadata": {},
   "outputs": [],
   "source": [
    "current_state = env.reset()"
   ]
  },
  {
   "cell_type": "code",
   "execution_count": 8,
   "metadata": {},
   "outputs": [
    {
     "name": "stderr",
     "output_type": "stream",
     "text": [
      "c:\\Users\\Vamshi\\OneDrive\\VAMSHI\\DS\\Projects\\Moon Lander\\src\\utils.py:114: FutureWarning: Styler.applymap has been deprecated. Use Styler.map instead.\n",
      "  .applymap(lambda x: 'background-color : grey' if x == '' else '')\\\n"
     ]
    },
    {
     "data": {
      "text/html": [
       "<style type=\"text/css\">\n",
       "#T_a8c8c th {\n",
       "  border: 1px solid grey;\n",
       "  text-align: center;\n",
       "}\n",
       "#T_a8c8c tbody td {\n",
       "  border: 1px solid grey;\n",
       "  text-align: center;\n",
       "}\n",
       "#T_a8c8c_row0_col0, #T_a8c8c_row1_col1, #T_a8c8c_row1_col2, #T_a8c8c_row1_col3, #T_a8c8c_row1_col4, #T_a8c8c_row1_col5, #T_a8c8c_row1_col6, #T_a8c8c_row1_col7, #T_a8c8c_row1_col8, #T_a8c8c_row1_col9, #T_a8c8c_row1_col10, #T_a8c8c_row1_col11, #T_a8c8c_row2_col0, #T_a8c8c_row3_col1, #T_a8c8c_row3_col2, #T_a8c8c_row3_col3, #T_a8c8c_row3_col4, #T_a8c8c_row3_col5, #T_a8c8c_row3_col6, #T_a8c8c_row3_col7, #T_a8c8c_row3_col8, #T_a8c8c_row3_col9, #T_a8c8c_row3_col10, #T_a8c8c_row3_col11, #T_a8c8c_row4_col1, #T_a8c8c_row4_col2, #T_a8c8c_row4_col3, #T_a8c8c_row4_col4, #T_a8c8c_row4_col5, #T_a8c8c_row4_col6, #T_a8c8c_row4_col7, #T_a8c8c_row4_col8, #T_a8c8c_row4_col9, #T_a8c8c_row4_col10, #T_a8c8c_row4_col11 {\n",
       "  background-color: grey;\n",
       "}\n",
       "</style>\n",
       "<table id=\"T_a8c8c\">\n",
       "  <thead>\n",
       "    <tr>\n",
       "      <th class=\"blank level0\" >&nbsp;</th>\n",
       "      <th id=\"T_a8c8c_level0_col0\" class=\"col_heading level0 col0\" ></th>\n",
       "      <th id=\"T_a8c8c_level0_col1\" class=\"col_heading level0 col1\" colspan=\"8\">State Vector</th>\n",
       "      <th id=\"T_a8c8c_level0_col9\" class=\"col_heading level0 col9\" colspan=\"3\">Derived from the State Vector (the closer to zero, the better)</th>\n",
       "    </tr>\n",
       "    <tr>\n",
       "      <th class=\"blank level1\" >&nbsp;</th>\n",
       "      <th id=\"T_a8c8c_level1_col0\" class=\"col_heading level1 col0\" ></th>\n",
       "      <th id=\"T_a8c8c_level1_col1\" class=\"col_heading level1 col1\" colspan=\"2\">Coordinate</th>\n",
       "      <th id=\"T_a8c8c_level1_col3\" class=\"col_heading level1 col3\" colspan=\"2\">Velocity</th>\n",
       "      <th id=\"T_a8c8c_level1_col5\" class=\"col_heading level1 col5\" colspan=\"2\">Tilting</th>\n",
       "      <th id=\"T_a8c8c_level1_col7\" class=\"col_heading level1 col7\" colspan=\"2\">Ground contact</th>\n",
       "      <th id=\"T_a8c8c_level1_col9\" class=\"col_heading level1 col9\" >Distance from landing pad</th>\n",
       "      <th id=\"T_a8c8c_level1_col10\" class=\"col_heading level1 col10\" >Velocity</th>\n",
       "      <th id=\"T_a8c8c_level1_col11\" class=\"col_heading level1 col11\" >Tilting Angle (absolute value)</th>\n",
       "    </tr>\n",
       "    <tr>\n",
       "      <th class=\"blank level2\" >&nbsp;</th>\n",
       "      <th id=\"T_a8c8c_level2_col0\" class=\"col_heading level2 col0\" ></th>\n",
       "      <th id=\"T_a8c8c_level2_col1\" class=\"col_heading level2 col1\" >X (Horizontal)</th>\n",
       "      <th id=\"T_a8c8c_level2_col2\" class=\"col_heading level2 col2\" >Y (Vertical)</th>\n",
       "      <th id=\"T_a8c8c_level2_col3\" class=\"col_heading level2 col3\" >X (Horizontal)</th>\n",
       "      <th id=\"T_a8c8c_level2_col4\" class=\"col_heading level2 col4\" >Y (Vertical)</th>\n",
       "      <th id=\"T_a8c8c_level2_col5\" class=\"col_heading level2 col5\" >Angle</th>\n",
       "      <th id=\"T_a8c8c_level2_col6\" class=\"col_heading level2 col6\" >Angular Velocity</th>\n",
       "      <th id=\"T_a8c8c_level2_col7\" class=\"col_heading level2 col7\" >Left Leg?</th>\n",
       "      <th id=\"T_a8c8c_level2_col8\" class=\"col_heading level2 col8\" >Right Leg?</th>\n",
       "      <th id=\"T_a8c8c_level2_col9\" class=\"col_heading level2 col9\" ></th>\n",
       "      <th id=\"T_a8c8c_level2_col10\" class=\"col_heading level2 col10\" ></th>\n",
       "      <th id=\"T_a8c8c_level2_col11\" class=\"col_heading level2 col11\" ></th>\n",
       "    </tr>\n",
       "  </thead>\n",
       "  <tbody>\n",
       "    <tr>\n",
       "      <th id=\"T_a8c8c_level0_row0\" class=\"row_heading level0 row0\" >Current State</th>\n",
       "      <td id=\"T_a8c8c_row0_col0\" class=\"data row0 col0\" ></td>\n",
       "      <td id=\"T_a8c8c_row0_col1\" class=\"data row0 col1\" >0.003850</td>\n",
       "      <td id=\"T_a8c8c_row0_col2\" class=\"data row0 col2\" >1.417031</td>\n",
       "      <td id=\"T_a8c8c_row0_col3\" class=\"data row0 col3\" >0.389923</td>\n",
       "      <td id=\"T_a8c8c_row0_col4\" class=\"data row0 col4\" >0.271595</td>\n",
       "      <td id=\"T_a8c8c_row0_col5\" class=\"data row0 col5\" >-0.004454</td>\n",
       "      <td id=\"T_a8c8c_row0_col6\" class=\"data row0 col6\" >-0.088323</td>\n",
       "      <td id=\"T_a8c8c_row0_col7\" class=\"data row0 col7\" >False</td>\n",
       "      <td id=\"T_a8c8c_row0_col8\" class=\"data row0 col8\" >False</td>\n",
       "      <td id=\"T_a8c8c_row0_col9\" class=\"data row0 col9\" >1.417036</td>\n",
       "      <td id=\"T_a8c8c_row0_col10\" class=\"data row0 col10\" >0.475188</td>\n",
       "      <td id=\"T_a8c8c_row0_col11\" class=\"data row0 col11\" >0.004454</td>\n",
       "    </tr>\n",
       "    <tr>\n",
       "      <th id=\"T_a8c8c_level0_row1\" class=\"row_heading level0 row1\" >Action</th>\n",
       "      <td id=\"T_a8c8c_row1_col0\" class=\"data row1 col0\" >Do nothing</td>\n",
       "      <td id=\"T_a8c8c_row1_col1\" class=\"data row1 col1\" ></td>\n",
       "      <td id=\"T_a8c8c_row1_col2\" class=\"data row1 col2\" ></td>\n",
       "      <td id=\"T_a8c8c_row1_col3\" class=\"data row1 col3\" ></td>\n",
       "      <td id=\"T_a8c8c_row1_col4\" class=\"data row1 col4\" ></td>\n",
       "      <td id=\"T_a8c8c_row1_col5\" class=\"data row1 col5\" ></td>\n",
       "      <td id=\"T_a8c8c_row1_col6\" class=\"data row1 col6\" ></td>\n",
       "      <td id=\"T_a8c8c_row1_col7\" class=\"data row1 col7\" ></td>\n",
       "      <td id=\"T_a8c8c_row1_col8\" class=\"data row1 col8\" ></td>\n",
       "      <td id=\"T_a8c8c_row1_col9\" class=\"data row1 col9\" ></td>\n",
       "      <td id=\"T_a8c8c_row1_col10\" class=\"data row1 col10\" ></td>\n",
       "      <td id=\"T_a8c8c_row1_col11\" class=\"data row1 col11\" ></td>\n",
       "    </tr>\n",
       "    <tr>\n",
       "      <th id=\"T_a8c8c_level0_row2\" class=\"row_heading level0 row2\" >Next State</th>\n",
       "      <td id=\"T_a8c8c_row2_col0\" class=\"data row2 col0\" ></td>\n",
       "      <td id=\"T_a8c8c_row2_col1\" class=\"data row2 col1\" >0.007699</td>\n",
       "      <td id=\"T_a8c8c_row2_col2\" class=\"data row2 col2\" >1.422564</td>\n",
       "      <td id=\"T_a8c8c_row2_col3\" class=\"data row2 col3\" >0.389396</td>\n",
       "      <td id=\"T_a8c8c_row2_col4\" class=\"data row2 col4\" >0.245894</td>\n",
       "      <td id=\"T_a8c8c_row2_col5\" class=\"data row2 col5\" >-0.008818</td>\n",
       "      <td id=\"T_a8c8c_row2_col6\" class=\"data row2 col6\" >-0.087294</td>\n",
       "      <td id=\"T_a8c8c_row2_col7\" class=\"data row2 col7\" >False</td>\n",
       "      <td id=\"T_a8c8c_row2_col8\" class=\"data row2 col8\" >False</td>\n",
       "      <td id=\"T_a8c8c_row2_col9\" class=\"data row2 col9\" >1.422585</td>\n",
       "      <td id=\"T_a8c8c_row2_col10\" class=\"data row2 col10\" >0.460536</td>\n",
       "      <td id=\"T_a8c8c_row2_col11\" class=\"data row2 col11\" >0.008818</td>\n",
       "    </tr>\n",
       "    <tr>\n",
       "      <th id=\"T_a8c8c_level0_row3\" class=\"row_heading level0 row3\" >Reward</th>\n",
       "      <td id=\"T_a8c8c_row3_col0\" class=\"data row3 col0\" >0.473897</td>\n",
       "      <td id=\"T_a8c8c_row3_col1\" class=\"data row3 col1\" ></td>\n",
       "      <td id=\"T_a8c8c_row3_col2\" class=\"data row3 col2\" ></td>\n",
       "      <td id=\"T_a8c8c_row3_col3\" class=\"data row3 col3\" ></td>\n",
       "      <td id=\"T_a8c8c_row3_col4\" class=\"data row3 col4\" ></td>\n",
       "      <td id=\"T_a8c8c_row3_col5\" class=\"data row3 col5\" ></td>\n",
       "      <td id=\"T_a8c8c_row3_col6\" class=\"data row3 col6\" ></td>\n",
       "      <td id=\"T_a8c8c_row3_col7\" class=\"data row3 col7\" ></td>\n",
       "      <td id=\"T_a8c8c_row3_col8\" class=\"data row3 col8\" ></td>\n",
       "      <td id=\"T_a8c8c_row3_col9\" class=\"data row3 col9\" ></td>\n",
       "      <td id=\"T_a8c8c_row3_col10\" class=\"data row3 col10\" ></td>\n",
       "      <td id=\"T_a8c8c_row3_col11\" class=\"data row3 col11\" ></td>\n",
       "    </tr>\n",
       "    <tr>\n",
       "      <th id=\"T_a8c8c_level0_row4\" class=\"row_heading level0 row4\" >Episode Terminated</th>\n",
       "      <td id=\"T_a8c8c_row4_col0\" class=\"data row4 col0\" >False</td>\n",
       "      <td id=\"T_a8c8c_row4_col1\" class=\"data row4 col1\" ></td>\n",
       "      <td id=\"T_a8c8c_row4_col2\" class=\"data row4 col2\" ></td>\n",
       "      <td id=\"T_a8c8c_row4_col3\" class=\"data row4 col3\" ></td>\n",
       "      <td id=\"T_a8c8c_row4_col4\" class=\"data row4 col4\" ></td>\n",
       "      <td id=\"T_a8c8c_row4_col5\" class=\"data row4 col5\" ></td>\n",
       "      <td id=\"T_a8c8c_row4_col6\" class=\"data row4 col6\" ></td>\n",
       "      <td id=\"T_a8c8c_row4_col7\" class=\"data row4 col7\" ></td>\n",
       "      <td id=\"T_a8c8c_row4_col8\" class=\"data row4 col8\" ></td>\n",
       "      <td id=\"T_a8c8c_row4_col9\" class=\"data row4 col9\" ></td>\n",
       "      <td id=\"T_a8c8c_row4_col10\" class=\"data row4 col10\" ></td>\n",
       "      <td id=\"T_a8c8c_row4_col11\" class=\"data row4 col11\" ></td>\n",
       "    </tr>\n",
       "  </tbody>\n",
       "</table>\n"
      ],
      "text/plain": [
       "<pandas.io.formats.style.Styler at 0x2368b204a10>"
      ]
     },
     "metadata": {},
     "output_type": "display_data"
    }
   ],
   "source": [
    "# Select an action'\n",
    "action = 0\n",
    "\n",
    "# Run a single time step of the environment's dynamics with the given action.\n",
    "next_state, reward, done, _ = env.step(action)\n",
    "\n",
    "# Display table with values.\n",
    "utils.display_table(current_state, action, next_state, reward, done)\n",
    "\n",
    "# Replace the `current_state` with the state after the action is taken\n",
    "current_state = next_state"
   ]
  },
  {
   "cell_type": "code",
   "execution_count": 9,
   "metadata": {},
   "outputs": [],
   "source": [
    "# Create the Q-Network\n",
    "q_network = Sequential([\n",
    "    ### START CODE HERE ### \n",
    "    Input(shape=state_size),\n",
    "    Dense(units=64,activation='relu'),\n",
    "    Dense(units=64,activation='relu'),\n",
    "    Dense(units=num_actions,activation='linear'),\n",
    "    ### END CODE HERE ### \n",
    "    ])\n",
    "\n",
    "# Create the target Q^-Network\n",
    "target_q_network = Sequential([\n",
    "    ### START CODE HERE ### \n",
    "    Input(shape = state_size),\n",
    "    Dense(units=64,activation='relu'),\n",
    "    Dense(units=64,activation='relu'),\n",
    "    Dense(units=num_actions,activation='linear'),\n",
    "    ### END CODE HERE ###\n",
    "    ])\n",
    "\n",
    "### START CODE HERE ### \n",
    "optimizer = Adam(learning_rate=ALPHA)"
   ]
  },
  {
   "cell_type": "code",
   "execution_count": 10,
   "metadata": {},
   "outputs": [
    {
     "ename": "ValueError",
     "evalue": "The layer sequential has never been called and thus has no defined input.",
     "output_type": "error",
     "traceback": [
      "\u001b[1;31m---------------------------------------------------------------------------\u001b[0m",
      "\u001b[1;31mValueError\u001b[0m                                Traceback (most recent call last)",
      "Cell \u001b[1;32mIn[10], line 3\u001b[0m\n\u001b[0;32m      1\u001b[0m \u001b[38;5;28;01mfrom\u001b[39;00m \u001b[38;5;21;01mpublic_tests\u001b[39;00m \u001b[38;5;28;01mimport\u001b[39;00m \u001b[38;5;241m*\u001b[39m\n\u001b[1;32m----> 3\u001b[0m \u001b[43mtest_network\u001b[49m\u001b[43m(\u001b[49m\u001b[43mq_network\u001b[49m\u001b[43m)\u001b[49m\n\u001b[0;32m      4\u001b[0m test_network(target_q_network)\n\u001b[0;32m      5\u001b[0m test_optimizer(optimizer, ALPHA) \n",
      "File \u001b[1;32mc:\\Users\\Vamshi\\OneDrive\\VAMSHI\\DS\\Projects\\Moon Lander\\src\\public_tests.py:14\u001b[0m, in \u001b[0;36mtest_network\u001b[1;34m(target)\u001b[0m\n\u001b[0;32m     12\u001b[0m i \u001b[38;5;241m=\u001b[39m \u001b[38;5;241m0\u001b[39m\n\u001b[0;32m     13\u001b[0m \u001b[38;5;28;01massert\u001b[39;00m \u001b[38;5;28mlen\u001b[39m(target\u001b[38;5;241m.\u001b[39mlayers) \u001b[38;5;241m==\u001b[39m \u001b[38;5;241m3\u001b[39m, \u001b[38;5;124mf\u001b[39m\u001b[38;5;124m\"\u001b[39m\u001b[38;5;124mWrong number of layers. Expected 3 but got \u001b[39m\u001b[38;5;132;01m{\u001b[39;00m\u001b[38;5;28mlen\u001b[39m(target\u001b[38;5;241m.\u001b[39mlayers)\u001b[38;5;132;01m}\u001b[39;00m\u001b[38;5;124m\"\u001b[39m\n\u001b[1;32m---> 14\u001b[0m \u001b[38;5;28;01massert\u001b[39;00m \u001b[43mtarget\u001b[49m\u001b[38;5;241;43m.\u001b[39;49m\u001b[43minput\u001b[49m\u001b[38;5;241m.\u001b[39mshape\u001b[38;5;241m.\u001b[39mas_list() \u001b[38;5;241m==\u001b[39m [\u001b[38;5;28;01mNone\u001b[39;00m, state_size], \\\n\u001b[0;32m     15\u001b[0m     \u001b[38;5;124mf\u001b[39m\u001b[38;5;124m\"\u001b[39m\u001b[38;5;124mWrong input shape. Expected [None,  400] but got \u001b[39m\u001b[38;5;132;01m{\u001b[39;00mtarget\u001b[38;5;241m.\u001b[39minput\u001b[38;5;241m.\u001b[39mshape\u001b[38;5;241m.\u001b[39mas_list()\u001b[38;5;132;01m}\u001b[39;00m\u001b[38;5;124m\"\u001b[39m \n\u001b[0;32m     16\u001b[0m expected \u001b[38;5;241m=\u001b[39m [[Dense, [\u001b[38;5;28;01mNone\u001b[39;00m, \u001b[38;5;241m64\u001b[39m], relu],\n\u001b[0;32m     17\u001b[0m             [Dense, [\u001b[38;5;28;01mNone\u001b[39;00m, \u001b[38;5;241m64\u001b[39m], relu],\n\u001b[0;32m     18\u001b[0m             [Dense, [\u001b[38;5;28;01mNone\u001b[39;00m, num_actions], linear]]\n\u001b[0;32m     20\u001b[0m \u001b[38;5;28;01mfor\u001b[39;00m layer \u001b[38;5;129;01min\u001b[39;00m target\u001b[38;5;241m.\u001b[39mlayers:\n",
      "File \u001b[1;32mc:\\Users\\Vamshi\\OneDrive\\VAMSHI\\DS\\Projects\\Moon Lander\\env\\Lib\\site-packages\\keras\\src\\ops\\operation.py:216\u001b[0m, in \u001b[0;36mOperation.input\u001b[1;34m(self)\u001b[0m\n\u001b[0;32m    206\u001b[0m \u001b[38;5;129m@property\u001b[39m\n\u001b[0;32m    207\u001b[0m \u001b[38;5;28;01mdef\u001b[39;00m \u001b[38;5;21minput\u001b[39m(\u001b[38;5;28mself\u001b[39m):\n\u001b[0;32m    208\u001b[0m \u001b[38;5;250m    \u001b[39m\u001b[38;5;124;03m\"\"\"Retrieves the input tensor(s) of a symbolic operation.\u001b[39;00m\n\u001b[0;32m    209\u001b[0m \n\u001b[0;32m    210\u001b[0m \u001b[38;5;124;03m    Only returns the tensor(s) corresponding to the *first time*\u001b[39;00m\n\u001b[1;32m   (...)\u001b[0m\n\u001b[0;32m    214\u001b[0m \u001b[38;5;124;03m        Input tensor or list of input tensors.\u001b[39;00m\n\u001b[0;32m    215\u001b[0m \u001b[38;5;124;03m    \"\"\"\u001b[39;00m\n\u001b[1;32m--> 216\u001b[0m     \u001b[38;5;28;01mreturn\u001b[39;00m \u001b[38;5;28;43mself\u001b[39;49m\u001b[38;5;241;43m.\u001b[39;49m\u001b[43m_get_node_attribute_at_index\u001b[49m\u001b[43m(\u001b[49m\u001b[38;5;241;43m0\u001b[39;49m\u001b[43m,\u001b[49m\u001b[43m \u001b[49m\u001b[38;5;124;43m\"\u001b[39;49m\u001b[38;5;124;43minput_tensors\u001b[39;49m\u001b[38;5;124;43m\"\u001b[39;49m\u001b[43m,\u001b[49m\u001b[43m \u001b[49m\u001b[38;5;124;43m\"\u001b[39;49m\u001b[38;5;124;43minput\u001b[39;49m\u001b[38;5;124;43m\"\u001b[39;49m\u001b[43m)\u001b[49m\n",
      "File \u001b[1;32mc:\\Users\\Vamshi\\OneDrive\\VAMSHI\\DS\\Projects\\Moon Lander\\env\\Lib\\site-packages\\keras\\src\\ops\\operation.py:247\u001b[0m, in \u001b[0;36mOperation._get_node_attribute_at_index\u001b[1;34m(self, node_index, attr, attr_name)\u001b[0m\n\u001b[0;32m    231\u001b[0m \u001b[38;5;250m\u001b[39m\u001b[38;5;124;03m\"\"\"Private utility to retrieves an attribute (e.g. inputs) from a node.\u001b[39;00m\n\u001b[0;32m    232\u001b[0m \n\u001b[0;32m    233\u001b[0m \u001b[38;5;124;03mThis is used to implement the properties:\u001b[39;00m\n\u001b[1;32m   (...)\u001b[0m\n\u001b[0;32m    244\u001b[0m \u001b[38;5;124;03m    The operation's attribute `attr` at the node of index `node_index`.\u001b[39;00m\n\u001b[0;32m    245\u001b[0m \u001b[38;5;124;03m\"\"\"\u001b[39;00m\n\u001b[0;32m    246\u001b[0m \u001b[38;5;28;01mif\u001b[39;00m \u001b[38;5;129;01mnot\u001b[39;00m \u001b[38;5;28mself\u001b[39m\u001b[38;5;241m.\u001b[39m_inbound_nodes:\n\u001b[1;32m--> 247\u001b[0m     \u001b[38;5;28;01mraise\u001b[39;00m \u001b[38;5;167;01mValueError\u001b[39;00m(\n\u001b[0;32m    248\u001b[0m         \u001b[38;5;124mf\u001b[39m\u001b[38;5;124m\"\u001b[39m\u001b[38;5;124mThe layer \u001b[39m\u001b[38;5;132;01m{\u001b[39;00m\u001b[38;5;28mself\u001b[39m\u001b[38;5;241m.\u001b[39mname\u001b[38;5;132;01m}\u001b[39;00m\u001b[38;5;124m has never been called \u001b[39m\u001b[38;5;124m\"\u001b[39m\n\u001b[0;32m    249\u001b[0m         \u001b[38;5;124mf\u001b[39m\u001b[38;5;124m\"\u001b[39m\u001b[38;5;124mand thus has no defined \u001b[39m\u001b[38;5;132;01m{\u001b[39;00mattr_name\u001b[38;5;132;01m}\u001b[39;00m\u001b[38;5;124m.\u001b[39m\u001b[38;5;124m\"\u001b[39m\n\u001b[0;32m    250\u001b[0m     )\n\u001b[0;32m    251\u001b[0m \u001b[38;5;28;01mif\u001b[39;00m \u001b[38;5;129;01mnot\u001b[39;00m \u001b[38;5;28mlen\u001b[39m(\u001b[38;5;28mself\u001b[39m\u001b[38;5;241m.\u001b[39m_inbound_nodes) \u001b[38;5;241m>\u001b[39m node_index:\n\u001b[0;32m    252\u001b[0m     \u001b[38;5;28;01mraise\u001b[39;00m \u001b[38;5;167;01mValueError\u001b[39;00m(\n\u001b[0;32m    253\u001b[0m         \u001b[38;5;124mf\u001b[39m\u001b[38;5;124m\"\u001b[39m\u001b[38;5;124mAsked to get \u001b[39m\u001b[38;5;132;01m{\u001b[39;00mattr_name\u001b[38;5;132;01m}\u001b[39;00m\u001b[38;5;124m at node \u001b[39m\u001b[38;5;124m\"\u001b[39m\n\u001b[0;32m    254\u001b[0m         \u001b[38;5;124mf\u001b[39m\u001b[38;5;124m\"\u001b[39m\u001b[38;5;132;01m{\u001b[39;00mnode_index\u001b[38;5;132;01m}\u001b[39;00m\u001b[38;5;124m, but the operation has only \u001b[39m\u001b[38;5;124m\"\u001b[39m\n\u001b[0;32m    255\u001b[0m         \u001b[38;5;124mf\u001b[39m\u001b[38;5;124m\"\u001b[39m\u001b[38;5;132;01m{\u001b[39;00m\u001b[38;5;28mlen\u001b[39m(\u001b[38;5;28mself\u001b[39m\u001b[38;5;241m.\u001b[39m_inbound_nodes)\u001b[38;5;132;01m}\u001b[39;00m\u001b[38;5;124m inbound nodes.\u001b[39m\u001b[38;5;124m\"\u001b[39m\n\u001b[0;32m    256\u001b[0m     )\n",
      "\u001b[1;31mValueError\u001b[0m: The layer sequential has never been called and thus has no defined input."
     ]
    }
   ],
   "source": [
    "\n",
    "from public_tests import *\n",
    "\n",
    "test_network(q_network)\n",
    "test_network(target_q_network)\n",
    "test_optimizer(optimizer, ALPHA) "
   ]
  },
  {
   "cell_type": "code",
   "execution_count": 19,
   "metadata": {},
   "outputs": [],
   "source": [
    "experience = namedtuple(\"Experience\", field_names=[\"state\", \"action\", \"reward\", \"next_state\", \"done\"])\n"
   ]
  },
  {
   "cell_type": "code",
   "execution_count": 11,
   "metadata": {},
   "outputs": [],
   "source": [
    "# UNQ_C2\n",
    "# GRADED FUNCTION: calculate_loss\n",
    "import keras.losses as losses\n",
    "\n",
    "\n",
    "\n",
    "def compute_loss(experiences, gamma, q_network, target_q_network):\n",
    "    \"\"\" \n",
    "    Calculates the loss.\n",
    "    \n",
    "    Args:\n",
    "      experiences: (tuple) tuple of [\"state\", \"action\", \"reward\", \"next_state\", \"done\"] namedtuples\n",
    "      gamma: (float) The discount factor.\n",
    "      q_network: (tf.keras.Sequential) Keras model for predicting the q_values\n",
    "      target_q_network: (tf.keras.Sequential) Keras model for predicting the targets\n",
    "          \n",
    "    Returns:\n",
    "      loss: (TensorFlow Tensor(shape=(0,), dtype=int32)) the Mean-Squared Error between\n",
    "            the y targets and the Q(s,a) values.\n",
    "    \"\"\"\n",
    "\n",
    "    # Unpack the mini-batch of experience tuples\n",
    "    states, actions, rewards, next_states, done_vals = experiences\n",
    "    \n",
    "    # Compute max Q^(s,a)\n",
    "    max_qsa = tf.reduce_max(target_q_network(next_states), axis=-1)\n",
    "    \n",
    "    # Set y = R if episode terminates, otherwise set y = R + γ max Q^(s,a).\n",
    "    ### START CODE HERE ### \n",
    "    y_targets = rewards + (gamma * max_qsa * (1 - done_vals))\n",
    "    ### END CODE HERE ###\n",
    "    \n",
    "    # Get the q_values and reshape to match y_targets\n",
    "    q_values = q_network(states)\n",
    "    q_values = tf.gather_nd(q_values, tf.stack([tf.range(q_values.shape[0]),\n",
    "                                                tf.cast(actions, tf.int32)], axis=1))\n",
    "        \n",
    "    # Compute the loss\n",
    "    ### START CODE HERE ### \n",
    "    loss = losses.MeanSquaredError()(y_targets , q_values) \n",
    "    ### END CODE HERE ### \n",
    "    \n",
    "    return loss"
   ]
  },
  {
   "cell_type": "code",
   "execution_count": 12,
   "metadata": {},
   "outputs": [
    {
     "name": "stdout",
     "output_type": "stream",
     "text": [
      "\u001b[92mAll tests passed!\n"
     ]
    }
   ],
   "source": [
    "\n",
    "test_compute_loss(compute_loss)"
   ]
  },
  {
   "cell_type": "code",
   "execution_count": 13,
   "metadata": {},
   "outputs": [],
   "source": [
    "@tf.function\n",
    "def agent_learn(experiences, gamma):\n",
    "    \"\"\"\n",
    "    Updates the weights of the Q networks.\n",
    "    \n",
    "    Args:\n",
    "      experiences: (tuple) tuple of [\"state\", \"action\", \"reward\", \"next_state\", \"done\"] namedtuples\n",
    "      gamma: (float) The discount factor.\n",
    "    \n",
    "    \"\"\"\n",
    "    \n",
    "    # Calculate the loss\n",
    "    with tf.GradientTape() as tape:\n",
    "        loss = compute_loss(experiences, gamma, q_network, target_q_network)\n",
    "\n",
    "    # Get the gradients of the loss with respect to the weights.\n",
    "    gradients = tape.gradient(loss, q_network.trainable_variables)\n",
    "    \n",
    "    # Update the weights of the q_network.\n",
    "    optimizer.apply_gradients(zip(gradients, q_network.trainable_variables))\n",
    "\n",
    "    # update the weights of target q_network\n",
    "    utils.update_target_network(q_network, target_q_network)"
   ]
  },
  {
   "cell_type": "code",
   "execution_count": 20,
   "metadata": {},
   "outputs": [
    {
     "name": "stdout",
     "output_type": "stream",
     "text": [
      "Episode 100 | Total point average of the last 100 episodes: -147.44\n",
      "Episode 136 | Total point average of the last 100 episodes: -118.90"
     ]
    },
    {
     "ename": "",
     "evalue": "",
     "output_type": "error",
     "traceback": [
      "\u001b[1;31mThe Kernel crashed while executing code in the current cell or a previous cell. \n",
      "\u001b[1;31mPlease review the code in the cell(s) to identify a possible cause of the failure. \n",
      "\u001b[1;31mClick <a href='https://aka.ms/vscodeJupyterKernelCrash'>here</a> for more info. \n",
      "\u001b[1;31mView Jupyter <a href='command:jupyter.viewOutput'>log</a> for further details."
     ]
    }
   ],
   "source": [
    "start = time.time()\n",
    "\n",
    "num_episodes = 2000\n",
    "max_num_timesteps = 1000\n",
    "\n",
    "total_point_history = []\n",
    "\n",
    "num_p_av = 100    # number of total points to use for averaging\n",
    "epsilon = 1.0     # initial ε value for ε-greedy policy\n",
    "\n",
    "# Create a memory buffer D with capacity N\n",
    "memory_buffer = deque(maxlen=MEMORY_SIZE)\n",
    "\n",
    "# Set the target network weights equal to the Q-Network weights\n",
    "target_q_network.set_weights(q_network.get_weights())\n",
    "\n",
    "for i in range(num_episodes):\n",
    "    \n",
    "    # Reset the environment to the initial state and get the initial state\n",
    "    state = env.reset()\n",
    "    total_points = 0\n",
    "    \n",
    "    for t in range(max_num_timesteps):\n",
    "        \n",
    "        # From the current state S choose an action A using an ε-greedy policy\n",
    "        state_qn = np.expand_dims(state, axis=0)  # state needs to be the right shape for the q_network\n",
    "        q_values = q_network(state_qn)\n",
    "        action = utils.get_action(q_values, epsilon)\n",
    "        \n",
    "        # Take action A and receive reward R and the next state S'\n",
    "        next_state, reward, done, _ = env.step(action)\n",
    "        \n",
    "        # Store experience tuple (S,A,R,S') in the memory buffer.\n",
    "        # We store the done variable as well for convenience.\n",
    "        memory_buffer.append(experience(state, action, reward, next_state, done))\n",
    "        \n",
    "        # Only update the network every NUM_STEPS_FOR_UPDATE time steps.\n",
    "        update = utils.check_update_conditions(t, NUM_STEPS_FOR_UPDATE, memory_buffer)\n",
    "        \n",
    "        if update:\n",
    "            # Sample random mini-batch of experience tuples (S,A,R,S') from D\n",
    "            experiences = utils.get_experiences(memory_buffer)\n",
    "            \n",
    "            # Set the y targets, perform a gradient descent step,\n",
    "            # and update the network weights.\n",
    "            agent_learn(experiences, GAMMA)\n",
    "        \n",
    "        state = next_state.copy()\n",
    "        total_points += reward\n",
    "        \n",
    "        if done:\n",
    "            break\n",
    "            \n",
    "    total_point_history.append(total_points)\n",
    "    av_latest_points = np.mean(total_point_history[-num_p_av:])\n",
    "    \n",
    "    # Update the ε value\n",
    "    epsilon = utils.get_new_eps(epsilon)\n",
    "\n",
    "    print(f\"\\rEpisode {i+1} | Total point average of the last {num_p_av} episodes: {av_latest_points:.2f}\", end=\"\")\n",
    "\n",
    "    if (i+1) % num_p_av == 0:\n",
    "        print(f\"\\rEpisode {i+1} | Total point average of the last {num_p_av} episodes: {av_latest_points:.2f}\")\n",
    "\n",
    "    # We will consider that the environment is solved if we get an\n",
    "    # average of 200 points in the last 100 episodes.\n",
    "    if av_latest_points >= 200.0:\n",
    "        print(f\"\\n\\nEnvironment solved in {i+1} episodes!\")\n",
    "        q_network.save('lunar_lander_model.h5')\n",
    "        break\n",
    "        \n",
    "tot_time = time.time() - start\n",
    "\n",
    "print(f\"\\nTotal Runtime: {tot_time:.2f} s ({(tot_time/60):.2f} min)\")"
   ]
  },
  {
   "cell_type": "code",
   "execution_count": 16,
   "metadata": {},
   "outputs": [
    {
     "data": {
      "image/png": "[encoded data removed]",
      "text/plain": [
       "<Figure size 1000x700 with 1 Axes>"
      ]
     },
     "metadata": {},
     "output_type": "display_data"
    }
   ],
   "source": [
    "utils.plot_history(total_point_history)"
   ]
  },
  {
   "cell_type": "code",
   "execution_count": 17,
   "metadata": {},
   "outputs": [],
   "source": [
    "import logging\n",
    "logging.getLogger().setLevel(logging.ERROR)"
   ]
  },
  {
   "cell_type": "code",
   "execution_count": 18,
   "metadata": {},
   "outputs": [
    {
     "data": {
      "text/html": [
       "\n",
       "    <video width=\"840\" height=\"480\" controls>\n",
       "    <source src=\"data:video/mp4;base64,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\" type=\"video/mp4\">\n",
       "    Your browser does not support the video tag.\n",
       "    </video>"
      ],
      "text/plain": [
       "<IPython.core.display.HTML object>"
      ]
     },
     "execution_count": 18,
     "metadata": {},
     "output_type": "execute_result"
    }
   ],
   "source": [
    "filename = \"./videos/lunar_lander.mp4\"\n",
    "\n",
    "utils.create_video(filename, env, q_network)\n",
    "utils.embed_mp4(filename)"
   ]
  },
  {
   "cell_type": "code",
   "execution_count": null,
   "metadata": {},
   "outputs": [],
   "source": []
  }
 ],
 "metadata": {
  "kernelspec": {
   "display_name": "env",
   "language": "python",
   "name": "python3"
  },
  "language_info": {
   "codemirror_mode": {
    "name": "ipython",
    "version": 3
   },
   "file_extension": ".py",
   "mimetype": "text/x-python",
   "name": "python",
   "nbconvert_exporter": "python",
   "pygments_lexer": "ipython3",
   "version": "3.11.2"
  }
 },
 "nbformat": 4,
 "nbformat_minor": 2
}
